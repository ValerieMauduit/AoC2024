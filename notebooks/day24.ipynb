{
 "cells": [
  {
   "cell_type": "code",
   "execution_count": 308,
   "id": "96ac8b24",
   "metadata": {},
   "outputs": [],
   "source": [
    "outputs = {'x00': True, 'x01': True, 'x02': False, 'x03': False, 'x04': False, 'x05': True, 'x06': False, 'x07': True, 'x08': True, 'x09': False, 'x10': True, 'x11': False, 'x12': False, 'x13': True, 'x14': False, 'x15': True, 'x16': True, 'x17': False, 'x18': False, 'x19': False, 'x20': False, 'x21': True, 'x22': False, 'x23': False, 'x24': True, 'x25': False, 'x26': False, 'x27': False, 'x28': True, 'x29': False, 'x30': False, 'x31': True, 'x32': True, 'x33': False, 'x34': True, 'x35': False, 'x36': True, 'x37': False, 'x38': True, 'x39': False, 'x40': True, 'x41': True, 'x42': True, 'x43': False, 'x44': True, 'y00': True, 'y01': False, 'y02': True, 'y03': True, 'y04': False, 'y05': False, 'y06': True, 'y07': True, 'y08': False, 'y09': True, 'y10': True, 'y11': True, 'y12': True, 'y13': True, 'y14': False, 'y15': True, 'y16': False, 'y17': False, 'y18': True, 'y19': True, 'y20': False, 'y21': True, 'y22': False, 'y23': True, 'y24': False, 'y25': True, 'y26': False, 'y27': True, 'y28': True, 'y29': False, 'y30': False, 'y31': True, 'y32': False, 'y33': False, 'y34': False, 'y35': True, 'y36': False, 'y37': True, 'y38': False, 'y39': True, 'y40': False, 'y41': False, 'y42': True, 'y43': False, 'y44': True}\n",
    "gates = {'gdr': ['x14', 'XOR', 'y14'], 'dkr': ['kgk', 'AND', 'rgm'], 'tfg': ['qdq', 'OR', 'qfb'], 'cnd': ['tcw', 'AND', 'qbj'], 'ngw': ['gpw', 'AND', 'htn'], 'jrr': ['x39', 'XOR', 'y39'], 'z24': ['ptv', 'XOR', 'htw'], 'z34': ['mng', 'XOR', 'ndj'], 'z03': ['kgk', 'XOR', 'rgm'], 'z35': ['hvb', 'XOR', 'tmw'], 'svq': ['x01', 'AND', 'y01'], 'jpg': ['hgk', 'AND', 'vks'], 'nps': ['y02', 'AND', 'x02'], 'mqb': ['vgf', 'OR', 'mqp'], 'z16': ['kdf', 'XOR', 'qnw'], 'z23': ['tpr', 'XOR', 'kpc'], 'qkc': ['x43', 'XOR', 'y43'], 'swr': ['bmk', 'AND', 'qjb'], 'ftc': ['qnb', 'OR', 'wfg'], 'rrf': ['wmd', 'AND', 'kpj'], 'wfq': ['dhp', 'AND', 'mbt'], 'fhr': ['x25', 'AND', 'y25'], 'npv': ['dbv', 'AND', 'gqw'], 'z13': ['wpw', 'XOR', 'tgv'], 'fdb': ['hbp', 'AND', 'rjq'], 'ptv': ['y24', 'XOR', 'x24'], 'wmd': ['jpg', 'OR', 'bsd'], 'z10': ['msp', 'XOR', 'wgr'], 'crj': ['x36', 'AND', 'y36'], 'qwb': ['x38', 'AND', 'y38'], 'z38': ['hbt', 'XOR', 'bvv'], 'qhn': ['x32', 'AND', 'y32'], 'fkg': ['wrb', 'AND', 'msn'], 'rjq': ['y21', 'XOR', 'x21'], 'z17': ['qjb', 'XOR', 'bmk'], 'vgf': ['tfg', 'AND', 'qkc'], 'tcw': ['fgn', 'OR', 'cmf'], 'z42': ['vdp', 'XOR', 'vkh'], 'bsd': ['x30', 'AND', 'y30'], 'kgk': ['nps', 'OR', 'kbb'], 'nns': ['y22', 'XOR', 'x22'], 'qbm': ['y23', 'AND', 'x23'], 'kbk': ['psh', 'AND', 'qvd'], 'qvd': ['nkv', 'OR', 'rwq'], 'z15': ['dnn', 'OR', 'mrm'], 'qdg': ['gmf', 'OR', 'dkr'], 'jgt': ['x33', 'AND', 'y33'], 'gmf': ['y03', 'AND', 'x03'], 'vrq': ['cgq', 'AND', 'mvk'], 'dmb': ['y09', 'AND', 'x09'], 'mng': ['x34', 'XOR', 'y34'], 'qqg': ['ggs', 'AND', 'qdg'], 'wgr': ['x10', 'XOR', 'y10'], 'pfw': ['cnd', 'OR', 'fhr'], 'vdp': ['x42', 'XOR', 'y42'], 'cmf': ['x24', 'AND', 'y24'], 'z40': ['gpw', 'XOR', 'htn'], 'z45': ['bfj', 'OR', 'rvs'], 'dhv': ['y08', 'XOR', 'x08'], 'fgq': ['tmw', 'AND', 'hvb'], 'ncd': ['x27', 'XOR', 'y27'], 'mqp': ['y43', 'AND', 'x43'], 'cgq': ['swr', 'OR', 'wtp'], 'gpw': ['bps', 'OR', 'fbk'], 'z04': ['ggs', 'XOR', 'qdg'], 'wwc': ['nbt', 'OR', 'vrq'], 'kdf': ['y16', 'XOR', 'x16'], 'mbt': ['npv', 'OR', 'qhn'], 'z11': ['qvd', 'XOR', 'psh'], 'gnc': ['x14', 'AND', 'y14'], 'ckw': ['pjh', 'AND', 'rbr'], 'z06': ['rbr', 'XOR', 'pjh'], 'z31': ['wmd', 'XOR', 'kpj'], 'z27': ['trt', 'XOR', 'nfj'], 'bvv': ['vkg', 'OR', 'jbg'], 'z44': ['mqb', 'XOR', 'spg'], 'kgn': ['ctj', 'AND', 'dgv'], 'mvk': ['x18', 'XOR', 'y18'], 'pkw': ['y07', 'AND', 'x07'], 'qrs': ['x29', 'XOR', 'y29'], 'rvs': ['x44', 'AND', 'y44'], 'z09': ['bnw', 'XOR', 'qqr'], 'vct': ['y19', 'AND', 'x19'], 'dnt': ['y37', 'XOR', 'x37'], 'hrb': ['x31', 'AND', 'y31'], 'fgn': ['ptv', 'AND', 'htw'], 'nsh': ['y26', 'AND', 'x26'], 'vkg': ['fcm', 'XOR', 'dnt'], 'qfj': ['ksr', 'OR', 'svq'], 'ctj': ['dwr', 'OR', 'ngw'], 'htn': ['y40', 'XOR', 'x40'], 'vkh': ['kgn', 'OR', 'kfb'], 'cqr': ['wrb', 'XOR', 'msn'], 'qqr': ['x09', 'XOR', 'y09'], 'z36': ['twd', 'XOR', 'sjw'], 'dmv': ['y35', 'AND', 'x35'], 'ggs': ['x04', 'XOR', 'y04'], 'z19': ['wwc', 'XOR', 'qpk'], 'bnw': ['wgh', 'OR', 'ngt'], 'sgc': ['x22', 'AND', 'y22'], 'pcp': ['fdb', 'OR', 'bfk'], 'htw': ['rvc', 'OR', 'qbm'], 'z39': ['gfb', 'XOR', 'jrr'], 'ndj': ['jgt', 'OR', 'wfq'], 'mmn': ['x16', 'AND', 'y16'], 'z41': ['ctj', 'XOR', 'dgv'], 'tpr': ['tsp', 'OR', 'sgc'], 'mmj': ['hdm', 'AND', 'pfw'], 'pjh': ['hqr', 'OR', 'hqv'], 'z37': ['dnt', 'AND', 'fcm'], 'kbb': ['qfj', 'AND', 'hvf'], 'kmn': ['ndd', 'AND', 'brm'], 'ndd': ['ncd', 'OR', 'hrn'], 'kpc': ['x23', 'XOR', 'y23'], 'z12': ['ctc', 'XOR', 'jhf'], 'rpn': ['y05', 'XOR', 'x05'], 'gsb': ['x29', 'AND', 'y29'], 'gfb': ['qwb', 'OR', 'pgg'], 'trt': ['mmj', 'OR', 'nsh'], 'hdm': ['x26', 'XOR', 'y26'], 'qpk': ['x19', 'XOR', 'y19'], 'z20': ['x20', 'AND', 'y20'], 'tsp': ['nns', 'AND', 'pcp'], 'nkv': ['wgr', 'AND', 'msp'], 'qnw': ['ctg', 'XOR', 'rjm'], 'ksr': ['rvb', 'AND', 'qkm'], 'vks': ['x30', 'XOR', 'y30'], 'z18': ['cgq', 'XOR', 'mvk'], 'qdq': ['vdp', 'AND', 'vkh'], 'ngt': ['dhv', 'AND', 'vdg'], 'z05': ['chv', 'XOR', 'rpn'], 'dbv': ['x32', 'XOR', 'y32'], 'psh': ['y11', 'XOR', 'x11'], 'hgk': ['mnm', 'OR', 'gsb'], 'hbp': ['fkg', 'OR', 'cqr'], 'z43': ['tfg', 'XOR', 'qkc'], 'dqg': ['gdr', 'AND', 'ftc'], 'qjb': ['y17', 'XOR', 'x17'], 'msn': ['x20', 'XOR', 'y20'], 'svk': ['y07', 'XOR', 'x07'], 'srr': ['kdf', 'AND', 'qnw'], 'hrn': ['nfj', 'AND', 'trt'], 'qps': ['x11', 'AND', 'y11'], 'vdg': ['nvr', 'OR', 'pkw'], 'qkm': ['y00', 'AND', 'x00'], 'vwc': ['x12', 'AND', 'y12'], 'kpj': ['y31', 'XOR', 'x31'], 'z08': ['vdg', 'XOR', 'dhv'], 'mdv': ['kmn', 'OR', 'wvn'], 'dnn': ['rjm', 'AND', 'ctg'], 'z00': ['y00', 'XOR', 'x00'], 'hks': ['jhf', 'AND', 'ctc'], 'z29': ['qrs', 'XOR', 'mdv'], 'dwr': ['y40', 'AND', 'x40'], 'std': ['y06', 'AND', 'x06'], 'wtp': ['x17', 'AND', 'y17'], 'z30': ['hgk', 'XOR', 'vks'], 'wfg': ['y13', 'AND', 'x13'], 'hvb': ['y35', 'XOR', 'x35'], 'msp': ['dmb', 'OR', 'hnw'], 'z32': ['gqw', 'XOR', 'dbv'], 'tmw': ['bjg', 'OR', 'bbq'], 'rvc': ['kpc', 'AND', 'tpr'], 'rwq': ['x10', 'AND', 'y10'], 'ctg': ['dqg', 'OR', 'gnc'], 'rvb': ['x01', 'XOR', 'y01'], 'brm': ['y28', 'XOR', 'x28'], 'wvn': ['y28', 'AND', 'x28'], 'wrb': ['mjm', 'OR', 'vct'], 'jhf': ['kbk', 'OR', 'qps'], 'z01': ['rvb', 'XOR', 'qkm'], 'nfj': ['y27', 'AND', 'x27'], 'wgh': ['x08', 'AND', 'y08'], 'z02': ['hvf', 'XOR', 'qfj'], 'jbg': ['y37', 'AND', 'x37'], 'nvr': ['svk', 'AND', 'qpc'], 'dgv': ['y41', 'XOR', 'x41'], 'bfk': ['y21', 'AND', 'x21'], 'sjw': ['x36', 'XOR', 'y36'], 'rjm': ['x15', 'XOR', 'y15'], 'hbt': ['x38', 'XOR', 'y38'], 'hqr': ['x05', 'AND', 'y05'], 'bbq': ['y34', 'AND', 'x34'], 'twd': ['dmv', 'OR', 'fgq'], 'z33': ['mbt', 'XOR', 'dhp'], 'hnw': ['qqr', 'AND', 'bnw'], 'bjg': ['mng', 'AND', 'ndj'], 'tgv': ['x13', 'XOR', 'y13'], 'fbk': ['y39', 'AND', 'x39'], 'z21': ['hbp', 'XOR', 'rjq'], 'z26': ['pfw', 'XOR', 'hdm'], 'nbt': ['x18', 'AND', 'y18'], 'cjq': ['x04', 'AND', 'y04'], 'hqv': ['rpn', 'AND', 'chv'], 'qfb': ['x42', 'AND', 'y42'], 'rgm': ['x03', 'XOR', 'y03'], 'pgg': ['bvv', 'AND', 'hbt'], 'z25': ['qbj', 'XOR', 'tcw'], 'mnm': ['mdv', 'AND', 'qrs'], 'qbj': ['x25', 'XOR', 'y25'], 'spg': ['x44', 'XOR', 'y44'], 'hvf': ['x02', 'XOR', 'y02'], 'ctc': ['x12', 'XOR', 'y12'], 'z14': ['gdr', 'XOR', 'ftc'], 'chv': ['cjq', 'OR', 'qqg'], 'qpc': ['ckw', 'OR', 'std'], 'qnb': ['wpw', 'AND', 'tgv'], 'kfb': ['x41', 'AND', 'y41'], 'mrm': ['y15', 'AND', 'x15'], 'rbr': ['x06', 'XOR', 'y06'], 'fcm': ['crj', 'OR', 'dvm'], 'dvm': ['twd', 'AND', 'sjw'], 'bfj': ['mqb', 'AND', 'spg'], 'z07': ['qpc', 'XOR', 'svk'], 'z22': ['pcp', 'XOR', 'nns'], 'gqw': ['hrb', 'OR', 'rrf'], 'bps': ['gfb', 'AND', 'jrr'], 'z28': ['ndd', 'XOR', 'brm'], 'wpw': ['hks', 'OR', 'vwc'], 'mjm': ['wwc', 'AND', 'qpk'], 'dhp': ['y33', 'XOR', 'x33'], 'bmk': ['srr', 'OR', 'mmn']}"
   ]
  },
  {
   "cell_type": "code",
   "execution_count": 309,
   "id": "f4ebbd93",
   "metadata": {},
   "outputs": [],
   "source": [
    "tempo = gates['z15']\n",
    "gates['z15'] = gates['qnw']\n",
    "gates['qnw'] = tempo\n",
    "\n",
    "tempo = gates['ncd']\n",
    "gates['ncd'] = gates['nfj']\n",
    "gates['nfj'] = tempo\n",
    "\n",
    "tempo = gates['z20']\n",
    "gates['z20'] = gates['cqr']\n",
    "gates['cqr'] = tempo\n",
    "\n"
   ]
  },
  {
   "cell_type": "code",
   "execution_count": 310,
   "id": "f6d73c73",
   "metadata": {},
   "outputs": [],
   "source": [
    "for k, v in gates.items():\n",
    "    v = [v[1], [v[0], v[2]]]\n",
    "    v[1].sort()\n",
    "    gates[k] = v\n",
    "\n",
    "# gates"
   ]
  },
  {
   "cell_type": "code",
   "execution_count": 311,
   "id": "8025d1c0",
   "metadata": {},
   "outputs": [],
   "source": [
    "# Non, il faut aussi renommer dans les formules. Ou créer un dico qui nous indique ce qu'on fait.\n",
    "# Théoriquement\n",
    "# xi XOR yi -> ai\n",
    "# xi AND yi -> ri\n",
    "# ai AND c(i-1) -> bi\n",
    "# ai XOR c(i-1) -> zi\n",
    "# ri OR bi -> ci\n",
    "\n",
    "count = 45\n",
    "\n",
    "theoretical_graph = {\n",
    "    **{f'A{i:02.0f}': [f'x{i:02.0f}', 'XOR', f'y{i:02.0f}'] for i in range(count)},\n",
    "    **{f'R{i:02.0f}': [f'x{i:02.0f}', 'AND', f'y{i:02.0f}'] for i in range(count)},\n",
    "    **{f'B{i:02.0f}': [f'A{i:02.0f}', 'AND', f'C{i - 1:02.0f}'] for i in range(1, count)},\n",
    "    **{f'C{i:02.0f}': [f'B{i:02.0f}', 'OR', f'R{i:02.0f}'] for i in range(count)},\n",
    "    **{f'Z{i:02.0f}': [f'A{i:02.0f}', 'XOR', f'C{i - 1:02.0f}'] for i in range(1, count)}\n",
    "}\n",
    "theoretical_graph['Z00'] = theoretical_graph['A00']\n",
    "theoretical_graph.pop('A00', None)\n",
    "theoretical_graph[f'Z{count:02.0f}'] = theoretical_graph['C00']\n",
    "\n",
    "for k, v in theoretical_graph.items():\n",
    "    v = [v[1], [v[0], v[2]]]\n",
    "    v[1].sort()\n",
    "    theoretical_graph[k] = v"
   ]
  },
  {
   "cell_type": "code",
   "execution_count": 312,
   "id": "5bfc25f1",
   "metadata": {},
   "outputs": [],
   "source": [
    "correspondances = {k: [] for k in theoretical_graph.keys()}\n",
    "translated_gates = gates.copy()\n",
    "\n",
    "# A values\n",
    "for i in range(count):\n",
    "    a_values = list({\n",
    "        k: v for k, v in translated_gates.items() if (v[0] == 'XOR') & (v[1][0] == f'x{i:02.0f}')\n",
    "    }.keys())\n",
    "    a_string = f'A{i:02.0f}'\n",
    "    if i == 0:\n",
    "        a_string = 'Z00'\n",
    "    correspondances[a_string] += a_values\n",
    "    for v in a_values:\n",
    "        for kg in translated_gates.keys():\n",
    "            if v in translated_gates[kg][1]:\n",
    "                translated_gates[kg] = [\n",
    "                    translated_gates[kg][0],\n",
    "                    [a_string if x == v else x for x in translated_gates[kg][1]]\n",
    "                ]\n",
    "\n",
    "# R values\n",
    "for i in range(count):\n",
    "    r_values = list({\n",
    "        k: v for k, v in translated_gates.items() if (v[0] == 'AND') & (v[1][0] == f'x{i:02.0f}')\n",
    "    }.keys())\n",
    "    correspondances[f'R{i:02.0f}'] += r_values\n",
    "    for v in r_values:\n",
    "        for kg in translated_gates.keys():\n",
    "            if v in translated_gates[kg][1]:\n",
    "                translated_gates[kg] = [\n",
    "                    translated_gates[kg][0],\n",
    "                    [f'R{i:02.0f}' if x == v else x for x in translated_gates[kg][1]]\n",
    "                ]\n",
    "\n",
    "# C values (define B)\n",
    "for i in range(count):\n",
    "    corresponding_formulas = {\n",
    "        k: v for k, v in translated_gates.items() if (v[0] == 'OR') & (f'R{i:02.0f}' in v[1])\n",
    "    }\n",
    "    c_values = list(corresponding_formulas.keys())\n",
    "    correspondances[f'C{i:02.0f}'] += c_values\n",
    "    for v in c_values:\n",
    "        for kg in translated_gates.keys():\n",
    "            if v in translated_gates[kg][1]:\n",
    "                translated_gates[kg] = [\n",
    "                    translated_gates[kg][0],\n",
    "                    [f'C{i:02.0f}' if x == v else x for x in translated_gates[kg][1]]\n",
    "                ]\n",
    "    if i > 0:\n",
    "        b_values = [x for v in corresponding_formulas.values() for x in v[1] if x[0] != 'R']\n",
    "        b_string = f'B{i:02.0f}'\n",
    "        correspondances[b_string] += b_values\n",
    "        for v in b_values:\n",
    "            for kg in translated_gates.keys():\n",
    "                if v in translated_gates[kg][1]:\n",
    "                    translated_gates[kg] = [\n",
    "                        translated_gates[kg][0],\n",
    "                        [b_string if x == v else x for x in translated_gates[kg][1]]\n",
    "                    ]\n",
    "\n",
    "# B values (define Ci-1)\n",
    "for i in range(1, count):\n",
    "    corresponding_formulas = {\n",
    "        k: v for k, v in translated_gates.items() if (v[0] == 'AND') & (f'A{i:02.0f}' in v[1])\n",
    "    }\n",
    "    b_values = list(corresponding_formulas.keys())\n",
    "    correspondances[f'B{i:02.0f}'] += b_values\n",
    "    for v in b_values:\n",
    "        for kg in translated_gates.keys():\n",
    "            if v in translated_gates[kg][1]:\n",
    "                translated_gates[kg] = [\n",
    "                    translated_gates[kg][0],\n",
    "                    [f'B{i:02.0f}' if x == v else x for x in translated_gates[kg][1]]\n",
    "                ]\n",
    "    c_values = [x for v in corresponding_formulas.values() for x in v[1] if x[0] != 'A']\n",
    "    c_string = f'C{i-1:02.0f}'\n",
    "    correspondances[c_string] += c_values\n",
    "    for v in c_values:\n",
    "        for kg in translated_gates.keys():\n",
    "            if v in translated_gates[kg][1]:\n",
    "                translated_gates[kg] = [\n",
    "                    translated_gates[kg][0],\n",
    "                    [c_string if x == v else x for x in translated_gates[kg][1]]\n",
    "                ]\n",
    "\n",
    "# Z values\n",
    "for i in range(1, count):\n",
    "    z_values = list({\n",
    "        k: v for k, v in translated_gates.items()\n",
    "        if (v[0] == 'XOR') & (\n",
    "            (v[1][0] == f'A{i:02.0f}') | (v[1][1] == f'A{i:02.0f}')\n",
    "            | (v[1][0] == f'C{i - 1:02.0f}') | (v[1][1] == f'C{i - 1:02.0f}') \n",
    "        )\n",
    "    }.keys())\n",
    "    correspondances[f'Z{i:02.0f}'] += z_values\n",
    "\n",
    "# {k: v for k, v in translated_gates.items() if (v[0] == 'AND') & ((v[1][0][0] not in ['A', 'x']) & (v[1][1][0] not in ['A', 'x']))}\n",
    "# correspondances\n",
    "# translated_gates"
   ]
  },
  {
   "cell_type": "code",
   "execution_count": 313,
   "id": "455ef07d",
   "metadata": {},
   "outputs": [
    {
     "data": {
      "text/plain": [
       "{'A01': ['rvb'],\n",
       " 'A02': ['hvf'],\n",
       " 'A03': ['rgm'],\n",
       " 'A04': ['ggs'],\n",
       " 'A05': ['rpn'],\n",
       " 'A06': ['rbr'],\n",
       " 'A07': ['svk'],\n",
       " 'A08': ['dhv'],\n",
       " 'A09': ['qqr'],\n",
       " 'A10': ['wgr'],\n",
       " 'A11': ['psh'],\n",
       " 'A12': ['ctc'],\n",
       " 'A13': ['tgv'],\n",
       " 'A14': ['gdr'],\n",
       " 'A15': ['rjm'],\n",
       " 'A16': ['kdf'],\n",
       " 'A17': ['qjb'],\n",
       " 'A18': ['mvk'],\n",
       " 'A19': ['qpk'],\n",
       " 'A20': ['msn'],\n",
       " 'A21': ['rjq'],\n",
       " 'A22': ['nns'],\n",
       " 'A23': ['kpc'],\n",
       " 'A24': ['ptv'],\n",
       " 'A25': ['qbj'],\n",
       " 'A26': ['hdm'],\n",
       " 'A27': ['nfj'],\n",
       " 'A28': ['brm'],\n",
       " 'A29': ['qrs'],\n",
       " 'A30': ['vks'],\n",
       " 'A31': ['kpj'],\n",
       " 'A32': ['dbv'],\n",
       " 'A33': ['dhp'],\n",
       " 'A34': ['mng'],\n",
       " 'A35': ['hvb'],\n",
       " 'A36': ['sjw'],\n",
       " 'A37': ['dnt'],\n",
       " 'A38': ['hbt'],\n",
       " 'A39': ['jrr'],\n",
       " 'A40': ['htn'],\n",
       " 'A41': ['dgv'],\n",
       " 'A42': ['vdp'],\n",
       " 'A43': ['qkc'],\n",
       " 'A44': ['spg'],\n",
       " 'R00': ['qkm'],\n",
       " 'R01': ['svq'],\n",
       " 'R02': ['nps'],\n",
       " 'R03': ['gmf'],\n",
       " 'R04': ['cjq'],\n",
       " 'R05': ['hqr'],\n",
       " 'R06': ['std'],\n",
       " 'R07': ['pkw'],\n",
       " 'R08': ['wgh'],\n",
       " 'R09': ['dmb'],\n",
       " 'R10': ['rwq'],\n",
       " 'R11': ['qps'],\n",
       " 'R12': ['vwc'],\n",
       " 'R13': ['wfg'],\n",
       " 'R14': ['gnc'],\n",
       " 'R15': ['mrm'],\n",
       " 'R16': ['mmn'],\n",
       " 'R17': ['wtp'],\n",
       " 'R18': ['nbt'],\n",
       " 'R19': ['vct'],\n",
       " 'R20': ['cqr'],\n",
       " 'R21': ['bfk'],\n",
       " 'R22': ['sgc'],\n",
       " 'R23': ['qbm'],\n",
       " 'R24': ['cmf'],\n",
       " 'R25': ['fhr'],\n",
       " 'R26': ['nsh'],\n",
       " 'R27': ['ncd'],\n",
       " 'R28': ['wvn'],\n",
       " 'R29': ['gsb'],\n",
       " 'R30': ['bsd'],\n",
       " 'R31': ['hrb'],\n",
       " 'R32': ['qhn'],\n",
       " 'R33': ['jgt'],\n",
       " 'R34': ['bbq'],\n",
       " 'R35': ['dmv'],\n",
       " 'R36': ['crj'],\n",
       " 'R37': ['jbg'],\n",
       " 'R38': ['qwb'],\n",
       " 'R39': ['fbk'],\n",
       " 'R40': ['dwr'],\n",
       " 'R41': ['kfb'],\n",
       " 'R42': ['qfb'],\n",
       " 'R43': ['mqp'],\n",
       " 'R44': ['rvs'],\n",
       " 'B01': ['ksr'],\n",
       " 'B02': ['kbb'],\n",
       " 'B03': ['dkr'],\n",
       " 'B04': ['qqg'],\n",
       " 'B05': ['hqv'],\n",
       " 'B06': ['ckw'],\n",
       " 'B07': ['nvr'],\n",
       " 'B08': ['ngt'],\n",
       " 'B09': ['hnw'],\n",
       " 'B10': ['nkv'],\n",
       " 'B11': ['kbk'],\n",
       " 'B12': ['hks'],\n",
       " 'B13': ['qnb'],\n",
       " 'B14': ['dqg'],\n",
       " 'B15': ['dnn'],\n",
       " 'B16': ['srr'],\n",
       " 'B17': ['swr'],\n",
       " 'B18': ['vrq'],\n",
       " 'B19': ['mjm'],\n",
       " 'B20': ['fkg'],\n",
       " 'B21': ['fdb'],\n",
       " 'B22': ['tsp'],\n",
       " 'B23': ['rvc'],\n",
       " 'B24': ['fgn'],\n",
       " 'B25': ['cnd'],\n",
       " 'B26': ['mmj'],\n",
       " 'B27': ['hrn'],\n",
       " 'B28': ['kmn'],\n",
       " 'B29': ['mnm'],\n",
       " 'B30': ['jpg'],\n",
       " 'B31': ['rrf'],\n",
       " 'B32': ['npv'],\n",
       " 'B33': ['wfq'],\n",
       " 'B34': ['bjg'],\n",
       " 'B35': ['fgq'],\n",
       " 'B36': ['dvm'],\n",
       " 'B37': ['z37', 'vkg'],\n",
       " 'B38': ['pgg'],\n",
       " 'B39': ['bps'],\n",
       " 'B40': ['ngw'],\n",
       " 'B41': ['kgn'],\n",
       " 'B42': ['qdq'],\n",
       " 'B43': ['vgf'],\n",
       " 'B44': ['bfj'],\n",
       " 'C00': ['R00'],\n",
       " 'C01': ['qfj'],\n",
       " 'C02': ['kgk'],\n",
       " 'C03': ['qdg'],\n",
       " 'C04': ['chv'],\n",
       " 'C05': ['pjh'],\n",
       " 'C06': ['qpc'],\n",
       " 'C07': ['vdg'],\n",
       " 'C08': ['bnw'],\n",
       " 'C09': ['msp'],\n",
       " 'C10': ['qvd'],\n",
       " 'C11': ['jhf'],\n",
       " 'C12': ['wpw'],\n",
       " 'C13': ['ftc'],\n",
       " 'C14': ['ctg'],\n",
       " 'C15': ['qnw'],\n",
       " 'C16': ['bmk'],\n",
       " 'C17': ['cgq'],\n",
       " 'C18': ['wwc'],\n",
       " 'C19': ['wrb'],\n",
       " 'C20': ['hbp'],\n",
       " 'C21': ['pcp'],\n",
       " 'C22': ['tpr'],\n",
       " 'C23': ['htw'],\n",
       " 'C24': ['tcw'],\n",
       " 'C25': ['pfw'],\n",
       " 'C26': ['trt'],\n",
       " 'C27': ['ndd'],\n",
       " 'C28': ['mdv'],\n",
       " 'C29': ['hgk'],\n",
       " 'C30': ['wmd'],\n",
       " 'C31': ['gqw'],\n",
       " 'C32': ['mbt'],\n",
       " 'C33': ['ndj'],\n",
       " 'C34': ['tmw'],\n",
       " 'C35': ['twd'],\n",
       " 'C36': ['fcm'],\n",
       " 'C37': ['bvv'],\n",
       " 'C38': ['gfb'],\n",
       " 'C39': ['gpw'],\n",
       " 'C40': ['ctj'],\n",
       " 'C41': ['vkh'],\n",
       " 'C42': ['tfg'],\n",
       " 'C43': ['mqb'],\n",
       " 'C44': ['z45'],\n",
       " 'Z01': ['z01'],\n",
       " 'Z02': ['z02'],\n",
       " 'Z03': ['z03'],\n",
       " 'Z04': ['z04'],\n",
       " 'Z05': ['z05'],\n",
       " 'Z06': ['z06'],\n",
       " 'Z07': ['z07'],\n",
       " 'Z08': ['z08'],\n",
       " 'Z09': ['z09'],\n",
       " 'Z10': ['z10'],\n",
       " 'Z11': ['z11'],\n",
       " 'Z12': ['z12'],\n",
       " 'Z13': ['z13'],\n",
       " 'Z14': ['z14'],\n",
       " 'Z15': ['z15'],\n",
       " 'Z16': ['z16'],\n",
       " 'Z17': ['z17'],\n",
       " 'Z18': ['z18'],\n",
       " 'Z19': ['z19'],\n",
       " 'Z20': ['z20'],\n",
       " 'Z21': ['z21'],\n",
       " 'Z22': ['z22'],\n",
       " 'Z23': ['z23'],\n",
       " 'Z24': ['z24'],\n",
       " 'Z25': ['z25'],\n",
       " 'Z26': ['z26'],\n",
       " 'Z27': ['z27'],\n",
       " 'Z28': ['z28'],\n",
       " 'Z29': ['z29'],\n",
       " 'Z30': ['z30'],\n",
       " 'Z31': ['z31'],\n",
       " 'Z32': ['z32'],\n",
       " 'Z33': ['z33'],\n",
       " 'Z34': ['z34'],\n",
       " 'Z35': ['z35'],\n",
       " 'Z36': ['z36'],\n",
       " 'Z37': ['vkg'],\n",
       " 'Z38': ['z38'],\n",
       " 'Z39': ['z39'],\n",
       " 'Z40': ['z40'],\n",
       " 'Z41': ['z41'],\n",
       " 'Z42': ['z42'],\n",
       " 'Z43': ['z43'],\n",
       " 'Z44': ['z44'],\n",
       " 'Z00': ['z00'],\n",
       " 'Z45': []}"
      ]
     },
     "execution_count": 313,
     "metadata": {},
     "output_type": "execute_result"
    }
   ],
   "source": [
    "for k, v in correspondances.items():\n",
    "    value = [x for x in set(v) if x != k]\n",
    "    correspondances[k] = value\n",
    "\n",
    "# for k, v in correspondances.items():\n",
    "#     if len(v) > 0:\n",
    "#         replaced_key = [x for x in v if x[0] != 'z'][0]\n",
    "#         if replaced_key in correspondances.keys():\n",
    "#             correspondances[k] = correspondances[replaced_key]\n",
    "#         else:\n",
    "#             print(f'--- {k} - {replaced_key} ---')\n",
    "#         correspondances.pop(replaced_key, None)\n",
    "correspondances"
   ]
  },
  {
   "cell_type": "code",
   "execution_count": 298,
   "id": "4144b772",
   "metadata": {},
   "outputs": [
    {
     "name": "stdout",
     "output_type": "stream",
     "text": [
      "Z00 - x00 XOR y00 ***\n",
      "Z01 - C00 XOR A01 \n",
      "Z02 - A02 XOR C01 \n",
      "Z03 - C02 XOR A03 \n",
      "Z04 - A04 XOR C03 \n",
      "Z05 - C04 XOR A05 \n",
      "Z06 - C05 XOR A06 \n",
      "Z07 - C06 XOR A07 \n",
      "Z08 - A08 XOR C07 \n",
      "Z09 - C08 XOR A09 \n",
      "Z10 - C09 XOR A10 \n",
      "Z11 - A11 XOR C10 \n",
      "Z12 - A12 XOR C11 \n",
      "Z13 - A13 XOR C12 \n",
      "Z14 - C13 XOR A14 \n",
      "Z15 - C14 XOR A15 \n",
      "Z16 - A16 XOR C15 \n",
      "Z17 - C16 XOR A17 \n",
      "Z18 - C17 XOR A18 \n",
      "Z19 - A19 XOR C18 \n",
      "Z20 - A20 XOR C19 \n",
      "Z21 - C20 XOR A21 \n",
      "Z22 - A22 XOR C21 \n",
      "Z23 - A23 XOR C22 \n",
      "Z24 - C23 XOR A24 \n",
      "Z25 - A25 XOR C24 \n",
      "Z26 - A26 XOR C25 \n",
      "Z27 - A27 XOR C26 \n",
      "Z28 - A28 XOR C27 \n",
      "Z29 - C28 XOR A29 \n",
      "Z30 - C29 XOR A30 \n",
      "Z31 - A31 XOR C30 \n",
      "Z32 - A32 XOR C31 \n",
      "Z33 - A33 XOR C32 \n",
      "Z34 - A34 XOR C33 \n",
      "Z35 - A35 XOR C34 \n",
      "Z36 - A36 XOR C35 \n",
      "Z37 - A37 XOR C36 \n",
      "Z38 - C37 XOR A38 \n",
      "Z39 - C38 XOR A39 \n",
      "Z40 - C39 XOR A40 \n",
      "Z41 - C40 XOR A41 \n",
      "Z42 - A42 XOR C41 \n",
      "Z43 - A43 XOR C42 \n",
      "Z44 - C43 XOR A44 \n"
     ]
    }
   ],
   "source": [
    "for j in range(45):\n",
    "    i = f'{j:02.0f}'\n",
    "    i1 = f'{j-1:02.0f}'\n",
    "#     input(i)\n",
    "    i_dict = {k: v for k, v in translated_gates.items() if (k[1:] == i) | (v[1][0][1:] == i) | (v[1][1][1:] == i)}\n",
    "    done = False\n",
    "    for k0, v0 in i_dict.items():\n",
    "        for k1, v1 in correspondances.items():\n",
    "            if len(v1) > 0:\n",
    "                if v1[0] == k0:\n",
    "                    if k1 == 'Z' + i:\n",
    "                        done = True\n",
    "                        formula = f'{v0[1][0]} {v0[0]} {v0[1][1]}'\n",
    "                        ok = ''\n",
    "#                         if formula not in [f'x{i} XOR y{i}', f'x{i} XOR y{i}']: # A\n",
    "#                         if formula not in [f'C{i1} AND A{i}', f'A{i} AND C{i1}']: # B\n",
    "#                         if formula not in [f'R{i} OR B{i}', f'B{i} OR R{i}']: # C\n",
    "#                         if formula not in [f'x{i} AND y{i}', f'y{i} AND x{i}']: # R\n",
    "                        if formula not in [f'A{i} XOR C{i1}', f'C{i1} XOR A{i}']: # R\n",
    "                            ok = '***'\n",
    "                        print(f'{k1} - {formula} {ok}')\n",
    "    if not done:\n",
    "        print(f'*** {i} not done')"
   ]
  },
  {
   "cell_type": "code",
   "execution_count": 265,
   "id": "a6911d8b",
   "metadata": {},
   "outputs": [
    {
     "data": {
      "text/plain": [
       "{'hbp': ['OR', ['cqr', 'B20']]}"
      ]
     },
     "execution_count": 265,
     "metadata": {},
     "output_type": "execute_result"
    }
   ],
   "source": [
    "{k: v for k, v in translated_gates.items() if (v[1][1] == 'B20')}"
   ]
  },
  {
   "cell_type": "code",
   "execution_count": 268,
   "id": "9e170765",
   "metadata": {},
   "outputs": [
    {
     "data": {
      "text/plain": [
       "['XOR', ['msn', 'wrb']]"
      ]
     },
     "execution_count": 268,
     "metadata": {},
     "output_type": "execute_result"
    }
   ],
   "source": [
    "gates['cqr']"
   ]
  },
  {
   "cell_type": "code",
   "execution_count": 271,
   "id": "62eab001",
   "metadata": {},
   "outputs": [
    {
     "data": {
      "text/plain": [
       "{'C19': ['wrb']}"
      ]
     },
     "execution_count": 271,
     "metadata": {},
     "output_type": "execute_result"
    }
   ],
   "source": [
    "{k: v for k, v in correspondances.items() if 'wrb' in v}"
   ]
  },
  {
   "cell_type": "code",
   "execution_count": 299,
   "id": "13380676",
   "metadata": {},
   "outputs": [
    {
     "data": {
      "text/plain": [
       "{'A01': ['rvb'],\n",
       " 'A02': ['hvf'],\n",
       " 'A03': ['rgm'],\n",
       " 'A04': ['ggs'],\n",
       " 'A05': ['rpn'],\n",
       " 'A06': ['rbr'],\n",
       " 'A07': ['svk'],\n",
       " 'A08': ['dhv'],\n",
       " 'A09': ['qqr'],\n",
       " 'A10': ['wgr'],\n",
       " 'A11': ['psh'],\n",
       " 'A12': ['ctc'],\n",
       " 'A13': ['tgv'],\n",
       " 'A14': ['gdr'],\n",
       " 'A15': ['rjm'],\n",
       " 'A16': ['kdf'],\n",
       " 'A17': ['qjb'],\n",
       " 'A18': ['mvk'],\n",
       " 'A19': ['qpk'],\n",
       " 'A20': ['msn'],\n",
       " 'A21': ['rjq'],\n",
       " 'A22': ['nns'],\n",
       " 'A23': ['kpc'],\n",
       " 'A24': ['ptv'],\n",
       " 'A25': ['qbj'],\n",
       " 'A26': ['hdm'],\n",
       " 'A27': ['nfj'],\n",
       " 'A28': ['brm'],\n",
       " 'A29': ['qrs'],\n",
       " 'A30': ['vks'],\n",
       " 'A31': ['kpj'],\n",
       " 'A32': ['dbv'],\n",
       " 'A33': ['dhp'],\n",
       " 'A34': ['mng'],\n",
       " 'A35': ['hvb'],\n",
       " 'A36': ['sjw'],\n",
       " 'A37': ['dnt'],\n",
       " 'A38': ['hbt'],\n",
       " 'A39': ['jrr'],\n",
       " 'A40': ['htn'],\n",
       " 'A41': ['dgv'],\n",
       " 'A42': ['vdp'],\n",
       " 'A43': ['qkc'],\n",
       " 'A44': ['spg'],\n",
       " 'R00': ['qkm'],\n",
       " 'R01': ['svq'],\n",
       " 'R02': ['nps'],\n",
       " 'R03': ['gmf'],\n",
       " 'R04': ['cjq'],\n",
       " 'R05': ['hqr'],\n",
       " 'R06': ['std'],\n",
       " 'R07': ['pkw'],\n",
       " 'R08': ['wgh'],\n",
       " 'R09': ['dmb'],\n",
       " 'R10': ['rwq'],\n",
       " 'R11': ['qps'],\n",
       " 'R12': ['vwc'],\n",
       " 'R13': ['wfg'],\n",
       " 'R14': ['gnc'],\n",
       " 'R15': ['mrm'],\n",
       " 'R16': ['mmn'],\n",
       " 'R17': ['wtp'],\n",
       " 'R18': ['nbt'],\n",
       " 'R19': ['vct'],\n",
       " 'R20': ['cqr'],\n",
       " 'R21': ['bfk'],\n",
       " 'R22': ['sgc'],\n",
       " 'R23': ['qbm'],\n",
       " 'R24': ['cmf'],\n",
       " 'R25': ['fhr'],\n",
       " 'R26': ['nsh'],\n",
       " 'R27': ['ncd'],\n",
       " 'R28': ['wvn'],\n",
       " 'R29': ['gsb'],\n",
       " 'R30': ['bsd'],\n",
       " 'R31': ['hrb'],\n",
       " 'R32': ['qhn'],\n",
       " 'R33': ['jgt'],\n",
       " 'R34': ['bbq'],\n",
       " 'R35': ['dmv'],\n",
       " 'R36': ['crj'],\n",
       " 'R37': ['jbg'],\n",
       " 'R38': ['qwb'],\n",
       " 'R39': ['fbk'],\n",
       " 'R40': ['dwr'],\n",
       " 'R41': ['kfb'],\n",
       " 'R42': ['qfb'],\n",
       " 'R43': ['mqp'],\n",
       " 'R44': ['rvs'],\n",
       " 'B01': ['ksr'],\n",
       " 'B02': ['kbb'],\n",
       " 'B03': ['dkr'],\n",
       " 'B04': ['qqg'],\n",
       " 'B05': ['hqv'],\n",
       " 'B06': ['ckw'],\n",
       " 'B07': ['nvr'],\n",
       " 'B08': ['ngt'],\n",
       " 'B09': ['hnw'],\n",
       " 'B10': ['nkv'],\n",
       " 'B11': ['kbk'],\n",
       " 'B12': ['hks'],\n",
       " 'B13': ['qnb'],\n",
       " 'B14': ['dqg'],\n",
       " 'B15': ['dnn'],\n",
       " 'B16': ['srr'],\n",
       " 'B17': ['swr'],\n",
       " 'B18': ['vrq'],\n",
       " 'B19': ['mjm'],\n",
       " 'B20': ['fkg'],\n",
       " 'B21': ['fdb'],\n",
       " 'B22': ['tsp'],\n",
       " 'B23': ['rvc'],\n",
       " 'B24': ['fgn'],\n",
       " 'B25': ['cnd'],\n",
       " 'B26': ['mmj'],\n",
       " 'B27': ['hrn'],\n",
       " 'B28': ['kmn'],\n",
       " 'B29': ['mnm'],\n",
       " 'B30': ['jpg'],\n",
       " 'B31': ['rrf'],\n",
       " 'B32': ['npv'],\n",
       " 'B33': ['wfq'],\n",
       " 'B34': ['bjg'],\n",
       " 'B35': ['fgq'],\n",
       " 'B36': ['dvm'],\n",
       " 'B37': ['z37', 'vkg'],\n",
       " 'B38': ['pgg'],\n",
       " 'B39': ['bps'],\n",
       " 'B40': ['ngw'],\n",
       " 'B41': ['kgn'],\n",
       " 'B42': ['qdq'],\n",
       " 'B43': ['vgf'],\n",
       " 'B44': ['bfj'],\n",
       " 'C00': ['R00'],\n",
       " 'C01': ['qfj'],\n",
       " 'C02': ['kgk'],\n",
       " 'C03': ['qdg'],\n",
       " 'C04': ['chv'],\n",
       " 'C05': ['pjh'],\n",
       " 'C06': ['qpc'],\n",
       " 'C07': ['vdg'],\n",
       " 'C08': ['bnw'],\n",
       " 'C09': ['msp'],\n",
       " 'C10': ['qvd'],\n",
       " 'C11': ['jhf'],\n",
       " 'C12': ['wpw'],\n",
       " 'C13': ['ftc'],\n",
       " 'C14': ['ctg'],\n",
       " 'C15': ['qnw'],\n",
       " 'C16': ['bmk'],\n",
       " 'C17': ['cgq'],\n",
       " 'C18': ['wwc'],\n",
       " 'C19': ['wrb'],\n",
       " 'C20': ['hbp'],\n",
       " 'C21': ['pcp'],\n",
       " 'C22': ['tpr'],\n",
       " 'C23': ['htw'],\n",
       " 'C24': ['tcw'],\n",
       " 'C25': ['pfw'],\n",
       " 'C26': ['trt'],\n",
       " 'C27': ['ndd'],\n",
       " 'C28': ['mdv'],\n",
       " 'C29': ['hgk'],\n",
       " 'C30': ['wmd'],\n",
       " 'C31': ['gqw'],\n",
       " 'C32': ['mbt'],\n",
       " 'C33': ['ndj'],\n",
       " 'C34': ['tmw'],\n",
       " 'C35': ['twd'],\n",
       " 'C36': ['fcm'],\n",
       " 'C37': ['bvv'],\n",
       " 'C38': ['gfb'],\n",
       " 'C39': ['gpw'],\n",
       " 'C40': ['ctj'],\n",
       " 'C41': ['vkh'],\n",
       " 'C42': ['tfg'],\n",
       " 'C43': ['mqb'],\n",
       " 'C44': ['z45'],\n",
       " 'Z01': ['z01'],\n",
       " 'Z02': ['z02'],\n",
       " 'Z03': ['z03'],\n",
       " 'Z04': ['z04'],\n",
       " 'Z05': ['z05'],\n",
       " 'Z06': ['z06'],\n",
       " 'Z07': ['z07'],\n",
       " 'Z08': ['z08'],\n",
       " 'Z09': ['z09'],\n",
       " 'Z10': ['z10'],\n",
       " 'Z11': ['z11'],\n",
       " 'Z12': ['z12'],\n",
       " 'Z13': ['z13'],\n",
       " 'Z14': ['z14'],\n",
       " 'Z15': ['z15'],\n",
       " 'Z16': ['z16'],\n",
       " 'Z17': ['z17'],\n",
       " 'Z18': ['z18'],\n",
       " 'Z19': ['z19'],\n",
       " 'Z20': ['z20'],\n",
       " 'Z21': ['z21'],\n",
       " 'Z22': ['z22'],\n",
       " 'Z23': ['z23'],\n",
       " 'Z24': ['z24'],\n",
       " 'Z25': ['z25'],\n",
       " 'Z26': ['z26'],\n",
       " 'Z27': ['z27'],\n",
       " 'Z28': ['z28'],\n",
       " 'Z29': ['z29'],\n",
       " 'Z30': ['z30'],\n",
       " 'Z31': ['z31'],\n",
       " 'Z32': ['z32'],\n",
       " 'Z33': ['z33'],\n",
       " 'Z34': ['z34'],\n",
       " 'Z35': ['z35'],\n",
       " 'Z36': ['z36'],\n",
       " 'Z37': ['vkg'],\n",
       " 'Z38': ['z38'],\n",
       " 'Z39': ['z39'],\n",
       " 'Z40': ['z40'],\n",
       " 'Z41': ['z41'],\n",
       " 'Z42': ['z42'],\n",
       " 'Z43': ['z43'],\n",
       " 'Z44': ['z44'],\n",
       " 'Z00': ['z00'],\n",
       " 'Z45': []}"
      ]
     },
     "execution_count": 299,
     "metadata": {},
     "output_type": "execute_result"
    }
   ],
   "source": [
    "correspondances"
   ]
  },
  {
   "cell_type": "code",
   "execution_count": null,
   "id": "a4ffb466",
   "metadata": {},
   "outputs": [],
   "source": []
  },
  {
   "cell_type": "code",
   "execution_count": null,
   "id": "3015bf49",
   "metadata": {},
   "outputs": [],
   "source": [
    "# problème de ci : {'ndd': ['OR', ['hrn', 'A27']], 'hbp': ['OR', ['cqr', 'fkg']]}\n",
    "# problème de bi : {'hrn': ['AND', ['R27', 'C26']]}\n",
    "# problème de zi : {'z15': ['OR', ['B15', 'R15']], 'z45': ['OR', ['B44', 'R44']], \n",
    "#                  'z37': ['AND', ['A37', 'C36']], 'z20': ['AND', ['x20', 'y20']]}\n",
    "#                  {'z15': ['OR', ['B15', 'R15']], 'z45': ['OR', ['B44', 'R44']],\n",
    "#                   'z27': ['XOR', ['R27', 'C26']],'z20': ['AND', ['x20', 'y20']],\n"
   ]
  },
  {
   "cell_type": "code",
   "execution_count": 145,
   "id": "3339f1ed",
   "metadata": {},
   "outputs": [
    {
     "data": {
      "text/plain": [
       "{'z15': ['OR', ['B15', 'R15']],\n",
       " 'z45': ['OR', ['B44', 'R44']],\n",
       " 'z20': ['AND', ['x20', 'y20']],\n",
       " 'z00': ['XOR', ['x00', 'y00']]}"
      ]
     },
     "execution_count": 145,
     "metadata": {},
     "output_type": "execute_result"
    }
   ],
   "source": [
    "# {k: v for k, v in translated_gates.items() if (k[0] == 'z') & (v[0] != 'XOR')}\n",
    "{k: v for k, v in translated_gates.items() if (k[0] == 'z') & (v[1][1][0] not in ['A', 'C'])}"
   ]
  },
  {
   "cell_type": "code",
   "execution_count": 163,
   "id": "f3b5aa99",
   "metadata": {
    "collapsed": true
   },
   "outputs": [
    {
     "data": {
      "text/plain": [
       "{'Z01': ['z01'],\n",
       " 'Z02': ['z02'],\n",
       " 'Z03': ['z03'],\n",
       " 'Z04': ['z04'],\n",
       " 'Z05': ['z05'],\n",
       " 'Z06': ['z06'],\n",
       " 'Z07': ['z07'],\n",
       " 'Z08': ['z08'],\n",
       " 'Z09': ['z09'],\n",
       " 'Z10': ['z10'],\n",
       " 'Z11': ['z11'],\n",
       " 'Z12': ['z12'],\n",
       " 'Z13': ['z13'],\n",
       " 'Z14': ['z14'],\n",
       " 'Z15': ['qnw'],\n",
       " 'Z16': ['z16'],\n",
       " 'Z17': ['z17'],\n",
       " 'Z18': ['z18'],\n",
       " 'Z19': ['z19'],\n",
       " 'Z20': ['cqr'],\n",
       " 'Z21': ['z21'],\n",
       " 'Z22': ['z22'],\n",
       " 'Z23': ['z23'],\n",
       " 'Z24': ['z24'],\n",
       " 'Z25': ['z25'],\n",
       " 'Z26': ['z26'],\n",
       " 'Z27': ['z27'],\n",
       " 'Z28': ['z28'],\n",
       " 'Z29': ['z29'],\n",
       " 'Z30': ['z30'],\n",
       " 'Z31': ['z31'],\n",
       " 'Z32': ['z32'],\n",
       " 'Z33': ['z33'],\n",
       " 'Z34': ['z34'],\n",
       " 'Z35': ['z35'],\n",
       " 'Z36': ['z36'],\n",
       " 'Z37': ['vkg'],\n",
       " 'Z38': ['z38'],\n",
       " 'Z39': ['z39'],\n",
       " 'Z40': ['z40'],\n",
       " 'Z41': ['z41'],\n",
       " 'Z42': ['z42'],\n",
       " 'Z43': ['z43'],\n",
       " 'Z44': ['z44'],\n",
       " 'Z00': ['z00']}"
      ]
     },
     "execution_count": 163,
     "metadata": {},
     "output_type": "execute_result"
    }
   ],
   "source": [
    "# {k: v for k, v in correspondances.items() if len(v) > 1}\n",
    "{k: v for k, v in correspondances.items() if (k[0] == 'Z') & (k != 'Z45')}"
   ]
  },
  {
   "cell_type": "code",
   "execution_count": null,
   "id": "1d3ba70c",
   "metadata": {},
   "outputs": [],
   "source": [
    "# vkg z37 qnw z15 'Z15': ['qnw'], 'Z20': ['cqr'], 'Z37': ['vkg'],"
   ]
  },
  {
   "cell_type": "code",
   "execution_count": 68,
   "id": "cddd227c",
   "metadata": {},
   "outputs": [],
   "source": [
    "check = {}\n",
    "g_simple = {k: [v[0], v[2]] for k, v in gates.items()}\n",
    "for k, v in g_simple.items():\n",
    "    item_list = v\n",
    "    next_items = item_list\n",
    "    while len(next_items) > 0:\n",
    "        next_items = []\n",
    "        for x in item_list:\n",
    "            if x in g_simple.keys():\n",
    "                next_items += [xi for xi in g_simple[x] if xi not in item_list]\n",
    "        item_list += next_items\n",
    "    check[k] = item_list\n",
    "    \n",
    "check = {k: len(v) for k, v in check.items()}"
   ]
  },
  {
   "cell_type": "code",
   "execution_count": 69,
   "id": "8d3c1088",
   "metadata": {},
   "outputs": [
    {
     "name": "stdout",
     "output_type": "stream",
     "text": [
      "{'z24': 256, 'z03': 20, 'z16': 92, 'z23': 250, 'z13': 76, 'z10': 58, 'z17': 98, 'z42': 368, 'z11': 64, 'z06': 38, 'z31': 302, 'z44': 376, 'z09': 58, 'z36': 338, 'z39': 356, 'z41': 362, 'z37': 344, 'z20': 2, 'z18': 106, 'z05': 32, 'z43': 370, 'z08': 52, 'z00': 2, 'z29': 292, 'z30': 298, 'z32': 310, 'z21': 244, 'z25': 268, 'z14': 82, 'z07': 46, 'z22': 250, 'z28': 284}\n"
     ]
    },
    {
     "data": {
      "text/plain": [
       "3"
      ]
     },
     "execution_count": 69,
     "metadata": {},
     "output_type": "execute_result"
    }
   ],
   "source": [
    "a = {k: v for k, v in check.items() if (k[0] == 'z') & (v % 6 != 0)}\n",
    "print(a)\n",
    "min([int(k[1:]) for k in a.keys() if k != 'z00'])"
   ]
  },
  {
   "cell_type": "code",
   "execution_count": 70,
   "id": "8ea39ebf",
   "metadata": {},
   "outputs": [
    {
     "name": "stdout",
     "output_type": "stream",
     "text": [
      "{'tfg': 366, 'ngw': 354, 'jpg': 294, 'mqb': 372, 'ftc': 78, 'tcw': 264, 'qvd': 60, 'qqg': 24, 'fgq': 330, 'cgq': 102, 'qfj': 24, 'vkh': 366, 'cqr': 120, 'bnw': 54, 'pcp': 246, 'htw': 258, 'tpr': 252, 'mmj': 270, 'ksr': 24, 'hgk': 294, 'hbp': 240, 'vdg': 48, 'mdv': 288, 'dnn': 90, 'hks': 72, 'msp': 60, 'bjg': 324, 'qpc': 42, 'gqw': 306, 'mjm': 114, 'bmk': 96}\n"
     ]
    },
    {
     "data": {
      "text/plain": [
       "['qqg', 'qfj', 'ksr']"
      ]
     },
     "execution_count": 70,
     "metadata": {},
     "output_type": "execute_result"
    }
   ],
   "source": [
    "b = {k: v for k, v in check.items() if (v % 6 == 0) & (k[0] != 'z')}\n",
    "print(b)\n",
    "[k for k, v in b.items() if v ==  min(b.values())]"
   ]
  },
  {
   "cell_type": "code",
   "execution_count": null,
   "id": "cd379f47",
   "metadata": {},
   "outputs": [],
   "source": []
  },
  {
   "cell_type": "code",
   "execution_count": null,
   "id": "e0b11db4",
   "metadata": {},
   "outputs": [],
   "source": []
  },
  {
   "cell_type": "code",
   "execution_count": null,
   "id": "bc5f78ca",
   "metadata": {},
   "outputs": [],
   "source": []
  },
  {
   "cell_type": "code",
   "execution_count": null,
   "id": "4e1dae6d",
   "metadata": {},
   "outputs": [],
   "source": []
  },
  {
   "cell_type": "code",
   "execution_count": null,
   "id": "1644bb98",
   "metadata": {},
   "outputs": [],
   "source": []
  },
  {
   "cell_type": "code",
   "execution_count": 2,
   "id": "08900762",
   "metadata": {},
   "outputs": [
    {
     "name": "stdout",
     "output_type": "stream",
     "text": [
      "------------------------------------------\n",
      "['x00', 'y00', 'qkm', 'z00', 'x01', 'y01', 'svq', 'rvb', 'ksr', 'z01', 'qfj', 'x02', 'y02', 'nps', 'hvf', 'kbb', 'z02', 'kgk', 'x03', 'y03', 'gmf', 'rgm', 'dkr', 'z03', 'qdg', 'x04', 'y04', 'ggs', 'cjq', 'qqg', 'z04', 'chv', 'x05', 'y05', 'rpn', 'hqr', 'z05', 'hqv', 'pjh', 'x06', 'y06', 'std', 'rbr', 'ckw', 'z06', 'qpc', 'x07', 'y07', 'pkw', 'svk', 'nvr', 'z07', 'vdg', 'x08', 'y08', 'dhv', 'wgh', 'ngt', 'z08', 'bnw', 'x09', 'y09', 'dmb', 'qqr', 'z09', 'hnw', 'msp', 'x10', 'y10', 'wgr', 'rwq', 'z10', 'nkv', 'qvd', 'x11', 'y11', 'psh', 'qps', 'kbk', 'z11', 'jhf', 'x12', 'y12', 'vwc', 'ctc', 'z12', 'hks', 'wpw', 'x13', 'y13', 'wfg', 'tgv', 'z13', 'qnb', 'ftc', 'x14', 'y14', 'gdr', 'gnc', 'dqg', 'z14', 'ctg', 'x15', 'y15', 'rjm', 'mrm', 'qnw', 'dnn', 'z15', 'x16', 'y16', 'kdf', 'mmn', 'z16', 'srr', 'bmk', 'x17', 'y17', 'qjb', 'wtp', 'swr', 'z17', 'cgq', 'x18', 'y18', 'mvk', 'nbt', 'vrq', 'z18', 'wwc', 'x19', 'y19', 'vct', 'qpk', 'z19', 'mjm', 'wrb', 'x20', 'y20', 'z20', 'msn', 'fkg', 'cqr', 'hbp', 'x21', 'y21', 'rjq', 'bfk', 'fdb', 'z21', 'pcp', 'x22', 'y22', 'nns', 'sgc', 'tsp', 'z22', 'tpr', 'x23', 'y23', 'qbm', 'kpc', 'z23', 'rvc', 'htw', 'x24', 'y24', 'ptv', 'cmf', 'z24', 'fgn', 'tcw', 'x25', 'y25', 'fhr', 'qbj', 'cnd', 'z25', 'pfw', 'x26', 'y26', 'nsh', 'hdm', 'mmj', 'z26', 'trt', 'x27', 'y27', 'ncd', 'nfj', 'z27', 'hrn', 'ndd', 'x28', 'y28', 'brm', 'wvn', 'kmn', 'z28', 'mdv', 'x29', 'y29', 'qrs', 'gsb', 'z29', 'mnm', 'hgk', 'x30', 'y30', 'bsd', 'vks', 'jpg', 'z30', 'wmd', 'x31', 'y31', 'hrb', 'kpj', 'rrf', 'z31', 'gqw', 'x32', 'y32', 'qhn', 'dbv', 'npv', 'z32', 'mbt', 'x33', 'y33', 'jgt', 'dhp', 'wfq', 'z33', 'ndj', 'x34', 'y34', 'mng', 'bbq', 'z34', 'bjg', 'tmw', 'x35', 'y35', 'dmv', 'hvb', 'z35', 'fgq', 'twd', 'x36', 'y36', 'crj', 'sjw', 'z36', 'dvm', 'fcm', 'x37', 'y37', 'dnt', 'jbg', 'vkg', 'z37', 'bvv', 'x38', 'y38', 'qwb', 'hbt', 'z38', 'pgg', 'gfb', 'x39', 'y39', 'jrr', 'fbk', 'z39', 'bps', 'gpw', 'x40', 'y40', 'htn', 'dwr', 'ngw', 'z40', 'ctj', 'x41', 'y41', 'dgv', 'kfb', 'kgn', 'z41', 'vkh', 'x42', 'y42', 'vdp', 'qfb', 'z42', 'qdq', 'tfg', 'x43', 'y43', 'qkc', 'mqp', 'vgf', 'z43', 'mqb', 'x44', 'y44', 'rvs', 'spg', 'z44', 'bfj', 'z45']\n"
     ]
    }
   ],
   "source": [
    "sorted_list = []\n",
    "operators = ['AND', 'OR', 'XOR']\n",
    "for i in range(45):\n",
    "    sorted_list += [f'x{i:02.0f}', f'y{i:02.0f}']\n",
    "    new_items = ['start']\n",
    "    while len(new_items) > 0:\n",
    "        new_items = []\n",
    "        updated_gates = {}\n",
    "        for k, v in gates.items():\n",
    "            if all([x in operators + sorted_list for x in v]):\n",
    "                new_items += [k]\n",
    "            else:\n",
    "                updated_gates[k] = v\n",
    "        gates = updated_gates\n",
    "        sorted_list += new_items\n",
    "print('-'* 42)\n",
    "print(sorted_list)"
   ]
  },
  {
   "cell_type": "code",
   "execution_count": 3,
   "id": "73ab02dc",
   "metadata": {},
   "outputs": [],
   "source": [
    "def create_binary_dict(number, prefix):\n",
    "    binary_string = bin(number)\n",
    "    binary_dict = {}\n",
    "    length = len(binary_string)\n",
    "    for i in range(1, length - 1):\n",
    "        binary_dict[f'{prefix}{i - 1:02.0f}'] = binary_string[length - i] == '1'\n",
    "    return binary_dict\n",
    "\n",
    "def calculate_number_from_dict(binary_dict):\n",
    "    return sum([int(v) * 2 ** int(k[1:]) for k, v in binary_dict.items()])"
   ]
  },
  {
   "cell_type": "code",
   "execution_count": 4,
   "id": "22fb6d3b",
   "metadata": {},
   "outputs": [],
   "source": [
    "def get_all_outputs(outputs, gates):\n",
    "    z_outputs_in_gates = [g for g in gates.keys() if g[0] == 'z']\n",
    "    while len(z_outputs_in_gates) > 0:\n",
    "        for output, command in gates.items():\n",
    "            if (command[0] in outputs.keys()) and (command[2] in outputs.keys()):\n",
    "                if command[1] == 'AND':\n",
    "                    outputs[output] = outputs[command[0]] & outputs[command[2]]\n",
    "                elif command[1] == 'OR':\n",
    "                    outputs[output] = outputs[command[0]] | outputs[command[2]]\n",
    "                elif command[1] == 'XOR':\n",
    "                    outputs[output] = outputs[command[0]] ^ outputs[command[2]]\n",
    "        gates = {k: v for k, v in gates.items() if k not in outputs.keys()}\n",
    "        z_outputs_in_gates = [g for g in gates.keys() if g[0] == 'z']\n",
    "    return outputs\n",
    "\n",
    "def get_z_outputs(outputs, gates):\n",
    "    return {k: v for k, v in get_all_outputs(outputs, gates).items() if k[0] == 'z'}\n",
    "\n",
    "def calculate(outputs, gates):\n",
    "    z_outputs = get_z_outputs(outputs, gates)\n",
    "    return sum([int(v) * 2 ** int(k[1:]) for k, v in z_outputs.items()])"
   ]
  },
  {
   "cell_type": "code",
   "execution_count": 5,
   "id": "ca7cff5d",
   "metadata": {},
   "outputs": [
    {
     "ename": "NameError",
     "evalue": "name 'x' is not defined",
     "output_type": "error",
     "traceback": [
      "\u001b[0;31m---------------------------------------------------------------------------\u001b[0m",
      "\u001b[0;31mNameError\u001b[0m                                 Traceback (most recent call last)",
      "Cell \u001b[0;32mIn[5], line 7\u001b[0m\n\u001b[1;32m      5\u001b[0m local_gates \u001b[38;5;241m=\u001b[39m {}\n\u001b[1;32m      6\u001b[0m actual_result \u001b[38;5;241m=\u001b[39m calculate(local_outputs, local_gates)\n\u001b[0;32m----> 7\u001b[0m theoretical_result  \u001b[38;5;241m=\u001b[39m \u001b[43mx\u001b[49m \u001b[38;5;241m+\u001b[39m y\n",
      "\u001b[0;31mNameError\u001b[0m: name 'x' is not defined"
     ]
    }
   ],
   "source": [
    "# Faire les additions de x + y avec y <= x pour tout x jusqu'à bin(44)\n",
    "# à chaque fois: voir le résultat du réseau - si le résultat est faux, on stoppe et ou regarde à partir de quel z c'est faux\n",
    "# on essaie d'obtenir un résultat juste à ce z: changer des noeuds binaires avant ce z (dans sorted list, à reculons à partir de z) jusqu'à corriger ce z et tous les z inférieurs\n",
    "local_outputs = {}\n",
    "local_gates = {}\n",
    "actual_result = calculate(local_outputs, local_gates)\n",
    "theoretical_result  = x + y"
   ]
  },
  {
   "cell_type": "code",
   "execution_count": null,
   "id": "7667fa01",
   "metadata": {},
   "outputs": [],
   "source": []
  },
  {
   "cell_type": "code",
   "execution_count": 9,
   "id": "9a16f772",
   "metadata": {},
   "outputs": [
    {
     "name": "stdout",
     "output_type": "stream",
     "text": [
      "x (0) + y (0) + r(0) = 0\n",
      "x (0) + y (0) + r(1) = 0\n",
      "x (0) + y (1) + r(0) = 0\n",
      "x (0) + y (1) + r(1) = 0\n",
      "x (1) + y (0) + r(0) = 0\n",
      "x (1) + y (0) + r(1) = 0\n",
      "x (1) + y (1) + r(0) = 0\n",
      "x (1) + y (1) + r(1) = 1\n"
     ]
    }
   ],
   "source": [
    "# (XOR) XOR\n",
    "\n",
    "for x in [False, True]:\n",
    "    x_value = 1 * x\n",
    "    for y in [False, True]:\n",
    "        y_value = 1 * y\n",
    "        for retenue in [False, True]:\n",
    "            r_value = retenue * 1\n",
    "            result = 1 * (x & y & retenue)\n",
    "            print(f'x ({x_value}) + y ({y_value}) + r({r_value}) = {result}')"
   ]
  },
  {
   "cell_type": "code",
   "execution_count": null,
   "id": "c94716ab",
   "metadata": {},
   "outputs": [],
   "source": []
  },
  {
   "cell_type": "code",
   "execution_count": null,
   "id": "a8cff290",
   "metadata": {},
   "outputs": [],
   "source": []
  },
  {
   "cell_type": "code",
   "execution_count": null,
   "id": "6511c3aa",
   "metadata": {},
   "outputs": [],
   "source": []
  },
  {
   "cell_type": "code",
   "execution_count": null,
   "id": "0d0a2cc9",
   "metadata": {},
   "outputs": [],
   "source": []
  },
  {
   "cell_type": "code",
   "execution_count": null,
   "id": "15a18ee6",
   "metadata": {},
   "outputs": [],
   "source": []
  },
  {
   "cell_type": "code",
   "execution_count": null,
   "id": "b4cffac6",
   "metadata": {},
   "outputs": [],
   "source": []
  },
  {
   "cell_type": "code",
   "execution_count": null,
   "id": "4a98b37c",
   "metadata": {},
   "outputs": [],
   "source": []
  },
  {
   "cell_type": "code",
   "execution_count": 304,
   "id": "a16c5751",
   "metadata": {},
   "outputs": [],
   "source": [
    "import matplotlib.pyplot as plt\n",
    "plt.rcParams['figure.figsize'] = [12, 20]"
   ]
  },
  {
   "cell_type": "code",
   "execution_count": 322,
   "id": "a23f2474",
   "metadata": {},
   "outputs": [],
   "source": [
    "import networkx as nx\n",
    "import numpy as np\n",
    "import matplotlib.pyplot as plt\n",
    "\n",
    "edges = []\n",
    "for k, v in translated_gates.items():\n",
    "    if [k] in correspondances.values():\n",
    "        k0 = [k00 for k00, v00 in correspondances.items() if v00 == [k]][0]\n",
    "        edges += [(v[1][0], k0), (v[1][1], k0)]\n",
    "\n",
    "G = nx.Graph()\n",
    "G.add_edges_from(edges)"
   ]
  },
  {
   "cell_type": "code",
   "execution_count": 330,
   "id": "9f1b0b02",
   "metadata": {},
   "outputs": [],
   "source": [
    "G1 = G.subgraph(\n",
    "    [f'A{i:02.0f}' for i in range(36, 44)] + \n",
    "    [f'B{i:02.0f}' for i in range(36, 44)] +\n",
    "    [f'C{i:02.0f}' for i in range(35, 44)] + \n",
    "    [f'R{i:02.0f}' for i in range(36, 44)] + \n",
    "    [f'Z{i:02.0f}' for i in range(36, 45)])"
   ]
  },
  {
   "cell_type": "code",
   "execution_count": 332,
   "id": "05679f96",
   "metadata": {},
   "outputs": [
    {
     "name": "stdout",
     "output_type": "stream",
     "text": [
      "['Z37', 'Z38', 'Z39', 'Z40', 'Z41', 'Z42']\n"
     ]
    },
    {
     "data": {
      "image/png": "[encoded data removed]",
      "text/plain": [
       "<Figure size 1200x2000 with 1 Axes>"
      ]
     },
     "metadata": {},
     "output_type": "display_data"
    }
   ],
   "source": [
    "wrong_z_values = [f'Z{i:02.0f}' for i in range(37, 43)]\n",
    "print(wrong_z_values)\n",
    "colors = []\n",
    "for n in G1:\n",
    "    if n in wrong_z_values:\n",
    "        colors += ['#ff9999']\n",
    "    elif n[0] in ['x', 'y']:\n",
    "        colors += ['#1dc5ff']\n",
    "    else:\n",
    "        colors += ['#eceae9']\n",
    "\n",
    "# colors = ['red' if n in wrong_z_values else '#eceae9' for n in G]\n",
    "nx.draw_kamada_kawai(G1, with_labels=True, node_color=colors)"
   ]
  },
  {
   "cell_type": "code",
   "execution_count": 339,
   "id": "f35b67ab",
   "metadata": {},
   "outputs": [
    {
     "data": {
      "text/plain": [
       "{'vkg': ['XOR', ['A37', 'C36']], 'z37': ['AND', ['A37', 'C36']]}"
      ]
     },
     "execution_count": 339,
     "metadata": {},
     "output_type": "execute_result"
    }
   ],
   "source": [
    "{k: v for k, v in translated_gates.items() if ('A37' in v[1]) | ('C36' in v[1])}"
   ]
  },
  {
   "cell_type": "code",
   "execution_count": 342,
   "id": "dd9461ed",
   "metadata": {},
   "outputs": [
    {
     "data": {
      "text/plain": [
       "'cqr,ncd,nfj,qnw,vkg,z15,z20,z37'"
      ]
     },
     "execution_count": 342,
     "metadata": {},
     "output_type": "execute_result"
    }
   ],
   "source": [
    "solution =   ['z15','qnw','ncd','nfj','z20','cqr','z37','vkg']\n",
    "solution.sort()\n",
    "','.join(solution)"
   ]
  },
  {
   "cell_type": "code",
   "execution_count": null,
   "id": "230f2252",
   "metadata": {},
   "outputs": [],
   "source": []
  }
 ],
 "metadata": {
  "kernelspec": {
   "display_name": "Python 3 (ipykernel)",
   "language": "python",
   "name": "python3"
  },
  "language_info": {
   "codemirror_mode": {
    "name": "ipython",
    "version": 3
   },
   "file_extension": ".py",
   "mimetype": "text/x-python",
   "name": "python",
   "nbconvert_exporter": "python",
   "pygments_lexer": "ipython3",
   "version": "3.12.3"
  }
 },
 "nbformat": 4,
 "nbformat_minor": 5
}
